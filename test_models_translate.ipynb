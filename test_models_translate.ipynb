{
 "cells": [
  {
   "cell_type": "markdown",
   "metadata": {},
   "source": [
    "## Process"
   ]
  },
  {
   "cell_type": "code",
   "execution_count": 1,
   "metadata": {},
   "outputs": [],
   "source": [
    "from IPython.display import Image "
   ]
  },
  {
   "cell_type": "markdown",
   "metadata": {},
   "source": [
    "## Libraries"
   ]
  },
  {
   "cell_type": "code",
   "execution_count": 2,
   "metadata": {},
   "outputs": [
    {
     "name": "stderr",
     "output_type": "stream",
     "text": [
      "c:\\Users\\andre\\.conda\\envs\\AndTranMLL\\Lib\\site-packages\\tqdm\\auto.py:21: TqdmWarning: IProgress not found. Please update jupyter and ipywidgets. See https://ipywidgets.readthedocs.io/en/stable/user_install.html\n",
      "  from .autonotebook import tqdm as notebook_tqdm\n"
     ]
    }
   ],
   "source": [
    "# pandas\n",
    "import pandas as pd\n",
    "# pytorch\n",
    "import torch\n",
    "# transformers \n",
    "from transformers import MarianMTModel, MarianTokenizer, MBartForConditionalGeneration, MBart50TokenizerFast, M2M100ForConditionalGeneration, M2M100Tokenizer"
   ]
  },
  {
   "cell_type": "markdown",
   "metadata": {},
   "source": [
    "## Source"
   ]
  },
  {
   "cell_type": "markdown",
   "metadata": {},
   "source": [
    "#### hugging face\n",
    "\n",
    "### https://huggingface.co/\n",
    "\n",
    "#### Transformers\n",
    "\n",
    "### https://huggingface.co/docs/transformers/index\n",
    "\n",
    "#### pytorch\n",
    "\n",
    "### https://pytorch.org/"
   ]
  },
  {
   "cell_type": "code",
   "execution_count": 3,
   "metadata": {},
   "outputs": [
    {
     "name": "stdout",
     "output_type": "stream",
     "text": [
      "cuda\n"
     ]
    }
   ],
   "source": [
    "# Select device\n",
    "\n",
    "## The bes solution is CUDA with GPu Nvidia\n",
    "\n",
    "if torch.cuda.is_available():\n",
    "    # Work with gpu Nvidia\n",
    "    device = torch.device(\"cuda\")\n",
    "elif torch.backends.mps.is_available():\n",
    "    # Work with Apple Silicon M Series\n",
    "    device = torch.device(\"mps\")\n",
    "else:\n",
    "    # Work only with cpu\n",
    "    device = torch.device(\"cpu\")\n",
    "\n",
    "print(device)"
   ]
  },
  {
   "cell_type": "markdown",
   "metadata": {},
   "source": [
    "## Example"
   ]
  },
  {
   "cell_type": "code",
   "execution_count": 4,
   "metadata": {},
   "outputs": [
    {
     "data": {
      "text/html": [
       "<div>\n",
       "<style scoped>\n",
       "    .dataframe tbody tr th:only-of-type {\n",
       "        vertical-align: middle;\n",
       "    }\n",
       "\n",
       "    .dataframe tbody tr th {\n",
       "        vertical-align: top;\n",
       "    }\n",
       "\n",
       "    .dataframe thead th {\n",
       "        text-align: right;\n",
       "    }\n",
       "</style>\n",
       "<table border=\"1\" class=\"dataframe\">\n",
       "  <thead>\n",
       "    <tr style=\"text-align: right;\">\n",
       "      <th></th>\n",
       "      <th>Texto</th>\n",
       "    </tr>\n",
       "  </thead>\n",
       "  <tbody>\n",
       "    <tr>\n",
       "      <th>0</th>\n",
       "      <td>Los dispositivos móviles son esenciales en la ...</td>\n",
       "    </tr>\n",
       "    <tr>\n",
       "      <th>1</th>\n",
       "      <td>La computación en la nube facilita el acceso y...</td>\n",
       "    </tr>\n",
       "    <tr>\n",
       "      <th>2</th>\n",
       "      <td>La realidad virtual y aumentada ofrecen nuevas...</td>\n",
       "    </tr>\n",
       "    <tr>\n",
       "      <th>3</th>\n",
       "      <td>El aprendizaje automático permite a las máquin...</td>\n",
       "    </tr>\n",
       "    <tr>\n",
       "      <th>4</th>\n",
       "      <td>Los dispositivos móviles son esenciales en la ...</td>\n",
       "    </tr>\n",
       "  </tbody>\n",
       "</table>\n",
       "</div>"
      ],
      "text/plain": [
       "                                               Texto\n",
       "0  Los dispositivos móviles son esenciales en la ...\n",
       "1  La computación en la nube facilita el acceso y...\n",
       "2  La realidad virtual y aumentada ofrecen nuevas...\n",
       "3  El aprendizaje automático permite a las máquin...\n",
       "4  Los dispositivos móviles son esenciales en la ..."
      ]
     },
     "execution_count": 4,
     "metadata": {},
     "output_type": "execute_result"
    }
   ],
   "source": [
    "# Example DataFrame\n",
    "#df = pd.DataFrame({\"text\": [\"Hola, ¿Comó estás?\", \"Me gusta programar en python\", \"Por favor, me avisa que debo hacer.\", \"Estoy preocupado por esta situación\"]})\n",
    "\n",
    "df = pd.read_csv(\"C:/Users/andre/iCloudDrive/Documents/Tutoriales/1 Coding channel/6 Translate with MLL/Textos.csv\")\n",
    "\n",
    "df.head(5)"
   ]
  },
  {
   "cell_type": "markdown",
   "metadata": {},
   "source": [
    "## Code to traslate"
   ]
  },
  {
   "cell_type": "markdown",
   "metadata": {},
   "source": [
    "### parameters function translate_open\n",
    "\n",
    "* text: The input text to translate.\n",
    "* model_name_b: The base name of the translation model to use. This variable is for loading the pre-trained model and its corresponding tokenizer.\n",
    "* model_pr: Represents the module or class to load the pre-trained model.\n",
    "* model_toke: Similar to model_pr, but refers to the module or class for loading the associated tokenizer. For example, it could be a reference to transformers.AutoTokenizer.\n",
    "* include_src: A control boolean variable indicating whether the source and target languages should be included or specified in the tokenization process. This is relevant for models like mBART or M2M100, which require this information.\n",
    "* src: The source language code, used to specify the language from which the text will be translated.\n",
    "* tgt: The target language code, used to specify the language to which the text will be translated.\n",
    "\n",
    "\n",
    "### other parameters\n",
    "\n",
    "* tokenizer: Tokenization refers to the process of breaking down text into smaller units, called tokens, which can be words, phrases, or even characters. This technique is essential for effectively analyzing and understanding text data\n",
    "* return_tensors='pt' tells the tokenizer to return the tokens as PyTorch tensors\n",
    "* padding=True ensures all sequences are the same length by adding padding tokens\n",
    "* truncation=True is used to indicate that the input text should be truncated to fit the model's maximum input size\n",
    "* max_length=200 specifies the maximum length of sequences after tokenizing\n",
    "* with torch.no_grad(): This context is used to disable gradient calculation, useful when you're making predictions with the model and don't need to update its weights. This saves memory and speeds up operations by not storing operations needed for gradient calculation.\n",
    "* model.generate is a function that performs the translation based on the provided inputs\n",
    "* forced_bos_token_id argument specifies the mandatory start token for the generated text, using the language ID corresponding to the target language (tgt)\n",
    "* forced_bos_token_id: forced the speficic tokenizar\n",
    "    * tokenizer.lang_code_to_id[tgt] the appropriate method for mBART.\n",
    "    * tokenizer.get_lang_id(tgt), the appropriate method for M2M100 models.\n",
    "* skip_special_tokens=True argument indicates that special tokens (like start, end, or padding tokens) should be skipped in the decoded output"
   ]
  },
  {
   "cell_type": "code",
   "execution_count": 5,
   "metadata": {},
   "outputs": [],
   "source": [
    "def translate_open(text, model_name_b, model_pr, model_toke, include_src, src, tgt):\n",
    "    # Make sure you have a CUDA-capable GPU\n",
    "    #device = torch.device(\"cuda\" if torch.cuda.is_available() else \"cpu\")\n",
    "\n",
    "    if torch.cuda.is_available():\n",
    "        device = torch.device(\"cuda\")\n",
    "    elif torch.backends.mps.is_available():\n",
    "        device = torch.device(\"mps\")\n",
    "    else:\n",
    "        device = torch.device(\"cpu\")\n",
    "        \n",
    "    model_name = model_name_b\n",
    "    model = model_pr.from_pretrained(model_name).to(device)\n",
    "    \n",
    "    # Initialize tokenizer without src_lang and tgt_lang\n",
    "    tokenizer = model_toke.from_pretrained(model_name)\n",
    "\n",
    "    # Specify src_lang and tgt_lang during tokenization\n",
    "    if include_src in ['mBART', 'M2M100']:\n",
    "        tokenizer.src_lang = src\n",
    "        inputs = tokenizer(text, return_tensors='pt', padding=True, truncation=True, max_length = 200)\n",
    "        # max_length in future will be remove and will need to replace for max_new_tokens\n",
    "    else:\n",
    "        inputs = tokenizer(text, return_tensors='pt', padding=True, truncation=True, max_length = 200)\n",
    "\n",
    "    # Move the inputs tensor to the same device as the model\n",
    "    inputs = {key: val.to(device) for key, val in inputs.items()}\n",
    "    \n",
    "    \n",
    "    with torch.no_grad():\n",
    "        if include_src in ['mBART']:\n",
    "            translated_ids = model.generate(**inputs, forced_bos_token_id=tokenizer.lang_code_to_id[tgt])\n",
    "        elif include_src in ['M2M100']:\n",
    "            translated_ids = model.generate(**inputs, forced_bos_token_id=tokenizer.get_lang_id(tgt))\n",
    "        else:\n",
    "            translated_ids = model.generate(**inputs)\n",
    "        translated_text = tokenizer.decode(translated_ids[0], skip_special_tokens=True)\n",
    "\n",
    "    return translated_text"
   ]
  },
  {
   "cell_type": "markdown",
   "metadata": {},
   "source": [
    "## Model 1: mBART\n",
    "\n",
    "### https://huggingface.co/facebook/mbart-large-50-many-to-many-mmt"
   ]
  },
  {
   "cell_type": "code",
   "execution_count": 6,
   "metadata": {},
   "outputs": [],
   "source": [
    "list_Trans = []\n",
    "\n",
    "for i in range(len(df.index)):\n",
    "    trans1 = translate_open(text = df['Texto'][i], model_name_b = 'facebook/mbart-large-50-many-to-many-mmt', \n",
    "                            model_pr = MBartForConditionalGeneration, model_toke = MBart50TokenizerFast, \n",
    "                            include_src = 'mBART', src = 'es_XX', tgt = 'en_XX')\n",
    "    list_Trans.append(trans1)\n",
    "\n",
    "df[\"translated_text_mbart\"] = list_Trans"
   ]
  },
  {
   "cell_type": "code",
   "execution_count": 7,
   "metadata": {},
   "outputs": [
    {
     "data": {
      "text/html": [
       "<img src=\"downloadModelF.png\" width=\"871\" height=\"235\"/>"
      ],
      "text/plain": [
       "<IPython.core.display.Image object>"
      ]
     },
     "execution_count": 7,
     "metadata": {},
     "output_type": "execute_result"
    }
   ],
   "source": [
    "Image(url=\"downloadModelF.png\", width=871, height=235)"
   ]
  },
  {
   "cell_type": "code",
   "execution_count": 8,
   "metadata": {},
   "outputs": [
    {
     "data": {
      "text/html": [
       "<div>\n",
       "<style scoped>\n",
       "    .dataframe tbody tr th:only-of-type {\n",
       "        vertical-align: middle;\n",
       "    }\n",
       "\n",
       "    .dataframe tbody tr th {\n",
       "        vertical-align: top;\n",
       "    }\n",
       "\n",
       "    .dataframe thead th {\n",
       "        text-align: right;\n",
       "    }\n",
       "</style>\n",
       "<table border=\"1\" class=\"dataframe\">\n",
       "  <thead>\n",
       "    <tr style=\"text-align: right;\">\n",
       "      <th></th>\n",
       "      <th>Texto</th>\n",
       "      <th>translated_text_mbart</th>\n",
       "    </tr>\n",
       "  </thead>\n",
       "  <tbody>\n",
       "    <tr>\n",
       "      <th>0</th>\n",
       "      <td>Los dispositivos móviles son esenciales en la ...</td>\n",
       "      <td>Mobile devices are essential in modern life, a...</td>\n",
       "    </tr>\n",
       "    <tr>\n",
       "      <th>1</th>\n",
       "      <td>La computación en la nube facilita el acceso y...</td>\n",
       "      <td>Cloud computing facilitates data access and st...</td>\n",
       "    </tr>\n",
       "    <tr>\n",
       "      <th>2</th>\n",
       "      <td>La realidad virtual y aumentada ofrecen nuevas...</td>\n",
       "      <td>Virtual and augmented reality offers new immer...</td>\n",
       "    </tr>\n",
       "    <tr>\n",
       "      <th>3</th>\n",
       "      <td>El aprendizaje automático permite a las máquin...</td>\n",
       "      <td>Automated learning allows machines to improve ...</td>\n",
       "    </tr>\n",
       "    <tr>\n",
       "      <th>4</th>\n",
       "      <td>Los dispositivos móviles son esenciales en la ...</td>\n",
       "      <td>Mobile devices are essential in modern life, a...</td>\n",
       "    </tr>\n",
       "  </tbody>\n",
       "</table>\n",
       "</div>"
      ],
      "text/plain": [
       "                                               Texto  \\\n",
       "0  Los dispositivos móviles son esenciales en la ...   \n",
       "1  La computación en la nube facilita el acceso y...   \n",
       "2  La realidad virtual y aumentada ofrecen nuevas...   \n",
       "3  El aprendizaje automático permite a las máquin...   \n",
       "4  Los dispositivos móviles son esenciales en la ...   \n",
       "\n",
       "                               translated_text_mbart  \n",
       "0  Mobile devices are essential in modern life, a...  \n",
       "1  Cloud computing facilitates data access and st...  \n",
       "2  Virtual and augmented reality offers new immer...  \n",
       "3  Automated learning allows machines to improve ...  \n",
       "4  Mobile devices are essential in modern life, a...  "
      ]
     },
     "execution_count": 8,
     "metadata": {},
     "output_type": "execute_result"
    }
   ],
   "source": [
    "df.head()"
   ]
  },
  {
   "cell_type": "markdown",
   "metadata": {},
   "source": [
    "## Model 2: MarianMT\n",
    "\n",
    "### https://huggingface.co/Helsinki-NLP/opus-mt-es-en"
   ]
  },
  {
   "cell_type": "code",
   "execution_count": 9,
   "metadata": {},
   "outputs": [
    {
     "name": "stderr",
     "output_type": "stream",
     "text": [
      "c:\\Users\\andre\\.conda\\envs\\AndTranMLL\\Lib\\site-packages\\transformers\\models\\marian\\tokenization_marian.py:175: UserWarning: Recommended: pip install sacremoses.\n",
      "  warnings.warn(\"Recommended: pip install sacremoses.\")\n"
     ]
    }
   ],
   "source": [
    "list_Trans = []\n",
    "\n",
    "for i in range(len(df.index)):\n",
    "\n",
    "    trans1 = translate_open(text = df['Texto'][i], model_name_b = 'Helsinki-NLP/opus-mt-es-en', \n",
    "                            model_pr = MarianMTModel, model_toke = MarianTokenizer, \n",
    "                            include_src = 'Maria', src = 'no', tgt = 'no')\n",
    "    \n",
    "    list_Trans.append(trans1)\n",
    "\n",
    "df[\"translated_text_marianmt\"] = list_Trans"
   ]
  },
  {
   "cell_type": "code",
   "execution_count": 10,
   "metadata": {},
   "outputs": [
    {
     "data": {
      "text/html": [
       "<div>\n",
       "<style scoped>\n",
       "    .dataframe tbody tr th:only-of-type {\n",
       "        vertical-align: middle;\n",
       "    }\n",
       "\n",
       "    .dataframe tbody tr th {\n",
       "        vertical-align: top;\n",
       "    }\n",
       "\n",
       "    .dataframe thead th {\n",
       "        text-align: right;\n",
       "    }\n",
       "</style>\n",
       "<table border=\"1\" class=\"dataframe\">\n",
       "  <thead>\n",
       "    <tr style=\"text-align: right;\">\n",
       "      <th></th>\n",
       "      <th>Texto</th>\n",
       "      <th>translated_text_mbart</th>\n",
       "      <th>translated_text_marianmt</th>\n",
       "    </tr>\n",
       "  </thead>\n",
       "  <tbody>\n",
       "    <tr>\n",
       "      <th>0</th>\n",
       "      <td>Los dispositivos móviles son esenciales en la ...</td>\n",
       "      <td>Mobile devices are essential in modern life, a...</td>\n",
       "      <td>Mobile devices are essential in modern life. C...</td>\n",
       "    </tr>\n",
       "    <tr>\n",
       "      <th>1</th>\n",
       "      <td>La computación en la nube facilita el acceso y...</td>\n",
       "      <td>Cloud computing facilitates data access and st...</td>\n",
       "      <td>Cloud computing facilitates data access and st...</td>\n",
       "    </tr>\n",
       "    <tr>\n",
       "      <th>2</th>\n",
       "      <td>La realidad virtual y aumentada ofrecen nuevas...</td>\n",
       "      <td>Virtual and augmented reality offers new immer...</td>\n",
       "      <td>Virtual and augmented reality offer new immers...</td>\n",
       "    </tr>\n",
       "    <tr>\n",
       "      <th>3</th>\n",
       "      <td>El aprendizaje automático permite a las máquin...</td>\n",
       "      <td>Automated learning allows machines to improve ...</td>\n",
       "      <td>Machine learning allows machines to improve fr...</td>\n",
       "    </tr>\n",
       "    <tr>\n",
       "      <th>4</th>\n",
       "      <td>Los dispositivos móviles son esenciales en la ...</td>\n",
       "      <td>Mobile devices are essential in modern life, a...</td>\n",
       "      <td>Mobile devices are essential in modern life. C...</td>\n",
       "    </tr>\n",
       "  </tbody>\n",
       "</table>\n",
       "</div>"
      ],
      "text/plain": [
       "                                               Texto  \\\n",
       "0  Los dispositivos móviles son esenciales en la ...   \n",
       "1  La computación en la nube facilita el acceso y...   \n",
       "2  La realidad virtual y aumentada ofrecen nuevas...   \n",
       "3  El aprendizaje automático permite a las máquin...   \n",
       "4  Los dispositivos móviles son esenciales en la ...   \n",
       "\n",
       "                               translated_text_mbart  \\\n",
       "0  Mobile devices are essential in modern life, a...   \n",
       "1  Cloud computing facilitates data access and st...   \n",
       "2  Virtual and augmented reality offers new immer...   \n",
       "3  Automated learning allows machines to improve ...   \n",
       "4  Mobile devices are essential in modern life, a...   \n",
       "\n",
       "                            translated_text_marianmt  \n",
       "0  Mobile devices are essential in modern life. C...  \n",
       "1  Cloud computing facilitates data access and st...  \n",
       "2  Virtual and augmented reality offer new immers...  \n",
       "3  Machine learning allows machines to improve fr...  \n",
       "4  Mobile devices are essential in modern life. C...  "
      ]
     },
     "execution_count": 10,
     "metadata": {},
     "output_type": "execute_result"
    }
   ],
   "source": [
    "df.head()"
   ]
  },
  {
   "cell_type": "markdown",
   "metadata": {},
   "source": [
    "## Model 3: M2M100\n",
    "\n",
    "### https://huggingface.co/facebook/m2m100_1.2B"
   ]
  },
  {
   "cell_type": "code",
   "execution_count": 11,
   "metadata": {},
   "outputs": [],
   "source": [
    "list_Trans = []\n",
    "\n",
    "for i in range(len(df.index)):\n",
    "\n",
    "    trans1 = translate_open(text = df['Texto'][i], model_name_b = 'facebook/m2m100_1.2B', \n",
    "                            model_pr = M2M100ForConditionalGeneration, model_toke = M2M100Tokenizer, \n",
    "                            include_src = 'M2M100', src = 'es', tgt = 'en')\n",
    "    list_Trans.append(trans1)\n",
    "\n",
    "df[\"translated_text_m2m100\"] = list_Trans"
   ]
  },
  {
   "cell_type": "code",
   "execution_count": 12,
   "metadata": {},
   "outputs": [
    {
     "data": {
      "text/html": [
       "<div>\n",
       "<style scoped>\n",
       "    .dataframe tbody tr th:only-of-type {\n",
       "        vertical-align: middle;\n",
       "    }\n",
       "\n",
       "    .dataframe tbody tr th {\n",
       "        vertical-align: top;\n",
       "    }\n",
       "\n",
       "    .dataframe thead th {\n",
       "        text-align: right;\n",
       "    }\n",
       "</style>\n",
       "<table border=\"1\" class=\"dataframe\">\n",
       "  <thead>\n",
       "    <tr style=\"text-align: right;\">\n",
       "      <th></th>\n",
       "      <th>Texto</th>\n",
       "      <th>translated_text_mbart</th>\n",
       "      <th>translated_text_marianmt</th>\n",
       "      <th>translated_text_m2m100</th>\n",
       "    </tr>\n",
       "  </thead>\n",
       "  <tbody>\n",
       "    <tr>\n",
       "      <th>0</th>\n",
       "      <td>Los dispositivos móviles son esenciales en la ...</td>\n",
       "      <td>Mobile devices are essential in modern life, a...</td>\n",
       "      <td>Mobile devices are essential in modern life. C...</td>\n",
       "      <td>Mobile devices are essential in modern life. C...</td>\n",
       "    </tr>\n",
       "    <tr>\n",
       "      <th>1</th>\n",
       "      <td>La computación en la nube facilita el acceso y...</td>\n",
       "      <td>Cloud computing facilitates data access and st...</td>\n",
       "      <td>Cloud computing facilitates data access and st...</td>\n",
       "      <td>Cloud computing facilitates data access and st...</td>\n",
       "    </tr>\n",
       "    <tr>\n",
       "      <th>2</th>\n",
       "      <td>La realidad virtual y aumentada ofrecen nuevas...</td>\n",
       "      <td>Virtual and augmented reality offers new immer...</td>\n",
       "      <td>Virtual and augmented reality offer new immers...</td>\n",
       "      <td>Virtual and augmented reality offer immersive ...</td>\n",
       "    </tr>\n",
       "    <tr>\n",
       "      <th>3</th>\n",
       "      <td>El aprendizaje automático permite a las máquin...</td>\n",
       "      <td>Automated learning allows machines to improve ...</td>\n",
       "      <td>Machine learning allows machines to improve fr...</td>\n",
       "      <td>Machine learning allows machines to improve fr...</td>\n",
       "    </tr>\n",
       "    <tr>\n",
       "      <th>4</th>\n",
       "      <td>Los dispositivos móviles son esenciales en la ...</td>\n",
       "      <td>Mobile devices are essential in modern life, a...</td>\n",
       "      <td>Mobile devices are essential in modern life. C...</td>\n",
       "      <td>Mobile devices are essential in modern life. c...</td>\n",
       "    </tr>\n",
       "  </tbody>\n",
       "</table>\n",
       "</div>"
      ],
      "text/plain": [
       "                                               Texto  \\\n",
       "0  Los dispositivos móviles son esenciales en la ...   \n",
       "1  La computación en la nube facilita el acceso y...   \n",
       "2  La realidad virtual y aumentada ofrecen nuevas...   \n",
       "3  El aprendizaje automático permite a las máquin...   \n",
       "4  Los dispositivos móviles son esenciales en la ...   \n",
       "\n",
       "                               translated_text_mbart  \\\n",
       "0  Mobile devices are essential in modern life, a...   \n",
       "1  Cloud computing facilitates data access and st...   \n",
       "2  Virtual and augmented reality offers new immer...   \n",
       "3  Automated learning allows machines to improve ...   \n",
       "4  Mobile devices are essential in modern life, a...   \n",
       "\n",
       "                            translated_text_marianmt  \\\n",
       "0  Mobile devices are essential in modern life. C...   \n",
       "1  Cloud computing facilitates data access and st...   \n",
       "2  Virtual and augmented reality offer new immers...   \n",
       "3  Machine learning allows machines to improve fr...   \n",
       "4  Mobile devices are essential in modern life. C...   \n",
       "\n",
       "                              translated_text_m2m100  \n",
       "0  Mobile devices are essential in modern life. C...  \n",
       "1  Cloud computing facilitates data access and st...  \n",
       "2  Virtual and augmented reality offer immersive ...  \n",
       "3  Machine learning allows machines to improve fr...  \n",
       "4  Mobile devices are essential in modern life. c...  "
      ]
     },
     "execution_count": 12,
     "metadata": {},
     "output_type": "execute_result"
    }
   ],
   "source": [
    "df.head()"
   ]
  },
  {
   "cell_type": "code",
   "execution_count": 14,
   "metadata": {},
   "outputs": [],
   "source": [
    "df.to_excel('base_trans.xlsx')"
   ]
  },
  {
   "cell_type": "code",
   "execution_count": 16,
   "metadata": {},
   "outputs": [
    {
     "data": {
      "text/html": [
       "<img src=\"used_gpu.png\" width=\"711\" height=\"930\"/>"
      ],
      "text/plain": [
       "<IPython.core.display.Image object>"
      ]
     },
     "execution_count": 16,
     "metadata": {},
     "output_type": "execute_result"
    }
   ],
   "source": [
    "Image(url=\"used_gpu.png\", width=711, height=930)"
   ]
  }
 ],
 "metadata": {
  "kernelspec": {
   "display_name": "AndMSI310",
   "language": "python",
   "name": "python3"
  },
  "language_info": {
   "codemirror_mode": {
    "name": "ipython",
    "version": 3
   },
   "file_extension": ".py",
   "mimetype": "text/x-python",
   "name": "python",
   "nbconvert_exporter": "python",
   "pygments_lexer": "ipython3",
   "version": "3.12.4"
  }
 },
 "nbformat": 4,
 "nbformat_minor": 2
}
